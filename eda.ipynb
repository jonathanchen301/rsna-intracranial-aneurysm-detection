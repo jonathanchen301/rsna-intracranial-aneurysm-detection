{
 "cells": [
  {
   "cell_type": "markdown",
   "id": "e7e5af25",
   "metadata": {},
   "source": [
    "# EDA"
   ]
  },
  {
   "cell_type": "markdown",
   "id": "7b5c8456",
   "metadata": {},
   "source": [
    "## Imports"
   ]
  },
  {
   "cell_type": "code",
   "execution_count": 60,
   "id": "afb0d59f",
   "metadata": {},
   "outputs": [],
   "source": [
    "import pandas as pd\n",
    "import seaborn as sns\n",
    "\n",
    "sns.set_palette([\"#a6cee3\", \"#1f78b4\", \"#b2df8a\", \"#33a02c\", \"#fb9a99\", \"#e31a1c\", \"#fdbf6f\", \"#ff7f00\", \"#cab2d6\", \"#6a3d9a\", \"#ffff99\", \"#b15928\"]) # colorbrewer2"
   ]
  },
  {
   "cell_type": "markdown",
   "id": "3d335783",
   "metadata": {},
   "source": [
    "## Number of Samples"
   ]
  },
  {
   "cell_type": "code",
   "execution_count": 61,
   "id": "16fb3495",
   "metadata": {},
   "outputs": [
    {
     "data": {
      "text/html": [
       "<div>\n",
       "<style scoped>\n",
       "    .dataframe tbody tr th:only-of-type {\n",
       "        vertical-align: middle;\n",
       "    }\n",
       "\n",
       "    .dataframe tbody tr th {\n",
       "        vertical-align: top;\n",
       "    }\n",
       "\n",
       "    .dataframe thead th {\n",
       "        text-align: right;\n",
       "    }\n",
       "</style>\n",
       "<table border=\"1\" class=\"dataframe\">\n",
       "  <thead>\n",
       "    <tr style=\"text-align: right;\">\n",
       "      <th></th>\n",
       "      <th>PatientAge</th>\n",
       "      <th>PatientSex</th>\n",
       "      <th>Modality</th>\n",
       "      <th>Left Infraclinoid Internal Carotid Artery</th>\n",
       "      <th>Right Infraclinoid Internal Carotid Artery</th>\n",
       "      <th>Left Supraclinoid Internal Carotid Artery</th>\n",
       "      <th>Right Supraclinoid Internal Carotid Artery</th>\n",
       "      <th>Left Middle Cerebral Artery</th>\n",
       "      <th>Right Middle Cerebral Artery</th>\n",
       "      <th>Anterior Communicating Artery</th>\n",
       "      <th>Left Anterior Cerebral Artery</th>\n",
       "      <th>Right Anterior Cerebral Artery</th>\n",
       "      <th>Left Posterior Communicating Artery</th>\n",
       "      <th>Right Posterior Communicating Artery</th>\n",
       "      <th>Basilar Tip</th>\n",
       "      <th>Other Posterior Circulation</th>\n",
       "      <th>Aneurysm Present</th>\n",
       "    </tr>\n",
       "    <tr>\n",
       "      <th>SeriesInstanceUID</th>\n",
       "      <th></th>\n",
       "      <th></th>\n",
       "      <th></th>\n",
       "      <th></th>\n",
       "      <th></th>\n",
       "      <th></th>\n",
       "      <th></th>\n",
       "      <th></th>\n",
       "      <th></th>\n",
       "      <th></th>\n",
       "      <th></th>\n",
       "      <th></th>\n",
       "      <th></th>\n",
       "      <th></th>\n",
       "      <th></th>\n",
       "      <th></th>\n",
       "      <th></th>\n",
       "    </tr>\n",
       "  </thead>\n",
       "  <tbody>\n",
       "    <tr>\n",
       "      <th>1.2.826.0.1.3680043.8.498.10004044428023505108375152878107656647</th>\n",
       "      <td>64</td>\n",
       "      <td>Female</td>\n",
       "      <td>MRA</td>\n",
       "      <td>0</td>\n",
       "      <td>0</td>\n",
       "      <td>0</td>\n",
       "      <td>0</td>\n",
       "      <td>0</td>\n",
       "      <td>0</td>\n",
       "      <td>0</td>\n",
       "      <td>0</td>\n",
       "      <td>0</td>\n",
       "      <td>0</td>\n",
       "      <td>0</td>\n",
       "      <td>0</td>\n",
       "      <td>0</td>\n",
       "      <td>0</td>\n",
       "    </tr>\n",
       "    <tr>\n",
       "      <th>1.2.826.0.1.3680043.8.498.10004684224894397679901841656954650085</th>\n",
       "      <td>76</td>\n",
       "      <td>Female</td>\n",
       "      <td>MRA</td>\n",
       "      <td>0</td>\n",
       "      <td>0</td>\n",
       "      <td>0</td>\n",
       "      <td>0</td>\n",
       "      <td>0</td>\n",
       "      <td>0</td>\n",
       "      <td>0</td>\n",
       "      <td>0</td>\n",
       "      <td>0</td>\n",
       "      <td>0</td>\n",
       "      <td>0</td>\n",
       "      <td>0</td>\n",
       "      <td>0</td>\n",
       "      <td>0</td>\n",
       "    </tr>\n",
       "    <tr>\n",
       "      <th>1.2.826.0.1.3680043.8.498.10005158603912009425635473100344077317</th>\n",
       "      <td>58</td>\n",
       "      <td>Male</td>\n",
       "      <td>CTA</td>\n",
       "      <td>0</td>\n",
       "      <td>0</td>\n",
       "      <td>0</td>\n",
       "      <td>0</td>\n",
       "      <td>0</td>\n",
       "      <td>0</td>\n",
       "      <td>0</td>\n",
       "      <td>0</td>\n",
       "      <td>0</td>\n",
       "      <td>0</td>\n",
       "      <td>0</td>\n",
       "      <td>0</td>\n",
       "      <td>1</td>\n",
       "      <td>1</td>\n",
       "    </tr>\n",
       "    <tr>\n",
       "      <th>1.2.826.0.1.3680043.8.498.10009383108068795488741533244914370182</th>\n",
       "      <td>71</td>\n",
       "      <td>Male</td>\n",
       "      <td>MRA</td>\n",
       "      <td>0</td>\n",
       "      <td>0</td>\n",
       "      <td>0</td>\n",
       "      <td>0</td>\n",
       "      <td>0</td>\n",
       "      <td>0</td>\n",
       "      <td>0</td>\n",
       "      <td>0</td>\n",
       "      <td>0</td>\n",
       "      <td>0</td>\n",
       "      <td>0</td>\n",
       "      <td>0</td>\n",
       "      <td>0</td>\n",
       "      <td>0</td>\n",
       "    </tr>\n",
       "    <tr>\n",
       "      <th>1.2.826.0.1.3680043.8.498.10012790035410518400400834395242853657</th>\n",
       "      <td>48</td>\n",
       "      <td>Female</td>\n",
       "      <td>MRA</td>\n",
       "      <td>0</td>\n",
       "      <td>0</td>\n",
       "      <td>0</td>\n",
       "      <td>0</td>\n",
       "      <td>0</td>\n",
       "      <td>0</td>\n",
       "      <td>0</td>\n",
       "      <td>0</td>\n",
       "      <td>0</td>\n",
       "      <td>0</td>\n",
       "      <td>0</td>\n",
       "      <td>0</td>\n",
       "      <td>0</td>\n",
       "      <td>0</td>\n",
       "    </tr>\n",
       "  </tbody>\n",
       "</table>\n",
       "</div>"
      ],
      "text/plain": [
       "                                                    PatientAge PatientSex  \\\n",
       "SeriesInstanceUID                                                           \n",
       "1.2.826.0.1.3680043.8.498.100040444280235051083...          64     Female   \n",
       "1.2.826.0.1.3680043.8.498.100046842248943976799...          76     Female   \n",
       "1.2.826.0.1.3680043.8.498.100051586039120094256...          58       Male   \n",
       "1.2.826.0.1.3680043.8.498.100093831080687954887...          71       Male   \n",
       "1.2.826.0.1.3680043.8.498.100127900354105184004...          48     Female   \n",
       "\n",
       "                                                   Modality  \\\n",
       "SeriesInstanceUID                                             \n",
       "1.2.826.0.1.3680043.8.498.100040444280235051083...      MRA   \n",
       "1.2.826.0.1.3680043.8.498.100046842248943976799...      MRA   \n",
       "1.2.826.0.1.3680043.8.498.100051586039120094256...      CTA   \n",
       "1.2.826.0.1.3680043.8.498.100093831080687954887...      MRA   \n",
       "1.2.826.0.1.3680043.8.498.100127900354105184004...      MRA   \n",
       "\n",
       "                                                    Left Infraclinoid Internal Carotid Artery  \\\n",
       "SeriesInstanceUID                                                                               \n",
       "1.2.826.0.1.3680043.8.498.100040444280235051083...                                          0   \n",
       "1.2.826.0.1.3680043.8.498.100046842248943976799...                                          0   \n",
       "1.2.826.0.1.3680043.8.498.100051586039120094256...                                          0   \n",
       "1.2.826.0.1.3680043.8.498.100093831080687954887...                                          0   \n",
       "1.2.826.0.1.3680043.8.498.100127900354105184004...                                          0   \n",
       "\n",
       "                                                    Right Infraclinoid Internal Carotid Artery  \\\n",
       "SeriesInstanceUID                                                                                \n",
       "1.2.826.0.1.3680043.8.498.100040444280235051083...                                           0   \n",
       "1.2.826.0.1.3680043.8.498.100046842248943976799...                                           0   \n",
       "1.2.826.0.1.3680043.8.498.100051586039120094256...                                           0   \n",
       "1.2.826.0.1.3680043.8.498.100093831080687954887...                                           0   \n",
       "1.2.826.0.1.3680043.8.498.100127900354105184004...                                           0   \n",
       "\n",
       "                                                    Left Supraclinoid Internal Carotid Artery  \\\n",
       "SeriesInstanceUID                                                                               \n",
       "1.2.826.0.1.3680043.8.498.100040444280235051083...                                          0   \n",
       "1.2.826.0.1.3680043.8.498.100046842248943976799...                                          0   \n",
       "1.2.826.0.1.3680043.8.498.100051586039120094256...                                          0   \n",
       "1.2.826.0.1.3680043.8.498.100093831080687954887...                                          0   \n",
       "1.2.826.0.1.3680043.8.498.100127900354105184004...                                          0   \n",
       "\n",
       "                                                    Right Supraclinoid Internal Carotid Artery  \\\n",
       "SeriesInstanceUID                                                                                \n",
       "1.2.826.0.1.3680043.8.498.100040444280235051083...                                           0   \n",
       "1.2.826.0.1.3680043.8.498.100046842248943976799...                                           0   \n",
       "1.2.826.0.1.3680043.8.498.100051586039120094256...                                           0   \n",
       "1.2.826.0.1.3680043.8.498.100093831080687954887...                                           0   \n",
       "1.2.826.0.1.3680043.8.498.100127900354105184004...                                           0   \n",
       "\n",
       "                                                    Left Middle Cerebral Artery  \\\n",
       "SeriesInstanceUID                                                                 \n",
       "1.2.826.0.1.3680043.8.498.100040444280235051083...                            0   \n",
       "1.2.826.0.1.3680043.8.498.100046842248943976799...                            0   \n",
       "1.2.826.0.1.3680043.8.498.100051586039120094256...                            0   \n",
       "1.2.826.0.1.3680043.8.498.100093831080687954887...                            0   \n",
       "1.2.826.0.1.3680043.8.498.100127900354105184004...                            0   \n",
       "\n",
       "                                                    Right Middle Cerebral Artery  \\\n",
       "SeriesInstanceUID                                                                  \n",
       "1.2.826.0.1.3680043.8.498.100040444280235051083...                             0   \n",
       "1.2.826.0.1.3680043.8.498.100046842248943976799...                             0   \n",
       "1.2.826.0.1.3680043.8.498.100051586039120094256...                             0   \n",
       "1.2.826.0.1.3680043.8.498.100093831080687954887...                             0   \n",
       "1.2.826.0.1.3680043.8.498.100127900354105184004...                             0   \n",
       "\n",
       "                                                    Anterior Communicating Artery  \\\n",
       "SeriesInstanceUID                                                                   \n",
       "1.2.826.0.1.3680043.8.498.100040444280235051083...                              0   \n",
       "1.2.826.0.1.3680043.8.498.100046842248943976799...                              0   \n",
       "1.2.826.0.1.3680043.8.498.100051586039120094256...                              0   \n",
       "1.2.826.0.1.3680043.8.498.100093831080687954887...                              0   \n",
       "1.2.826.0.1.3680043.8.498.100127900354105184004...                              0   \n",
       "\n",
       "                                                    Left Anterior Cerebral Artery  \\\n",
       "SeriesInstanceUID                                                                   \n",
       "1.2.826.0.1.3680043.8.498.100040444280235051083...                              0   \n",
       "1.2.826.0.1.3680043.8.498.100046842248943976799...                              0   \n",
       "1.2.826.0.1.3680043.8.498.100051586039120094256...                              0   \n",
       "1.2.826.0.1.3680043.8.498.100093831080687954887...                              0   \n",
       "1.2.826.0.1.3680043.8.498.100127900354105184004...                              0   \n",
       "\n",
       "                                                    Right Anterior Cerebral Artery  \\\n",
       "SeriesInstanceUID                                                                    \n",
       "1.2.826.0.1.3680043.8.498.100040444280235051083...                               0   \n",
       "1.2.826.0.1.3680043.8.498.100046842248943976799...                               0   \n",
       "1.2.826.0.1.3680043.8.498.100051586039120094256...                               0   \n",
       "1.2.826.0.1.3680043.8.498.100093831080687954887...                               0   \n",
       "1.2.826.0.1.3680043.8.498.100127900354105184004...                               0   \n",
       "\n",
       "                                                    Left Posterior Communicating Artery  \\\n",
       "SeriesInstanceUID                                                                         \n",
       "1.2.826.0.1.3680043.8.498.100040444280235051083...                                    0   \n",
       "1.2.826.0.1.3680043.8.498.100046842248943976799...                                    0   \n",
       "1.2.826.0.1.3680043.8.498.100051586039120094256...                                    0   \n",
       "1.2.826.0.1.3680043.8.498.100093831080687954887...                                    0   \n",
       "1.2.826.0.1.3680043.8.498.100127900354105184004...                                    0   \n",
       "\n",
       "                                                    Right Posterior Communicating Artery  \\\n",
       "SeriesInstanceUID                                                                          \n",
       "1.2.826.0.1.3680043.8.498.100040444280235051083...                                     0   \n",
       "1.2.826.0.1.3680043.8.498.100046842248943976799...                                     0   \n",
       "1.2.826.0.1.3680043.8.498.100051586039120094256...                                     0   \n",
       "1.2.826.0.1.3680043.8.498.100093831080687954887...                                     0   \n",
       "1.2.826.0.1.3680043.8.498.100127900354105184004...                                     0   \n",
       "\n",
       "                                                    Basilar Tip  \\\n",
       "SeriesInstanceUID                                                 \n",
       "1.2.826.0.1.3680043.8.498.100040444280235051083...            0   \n",
       "1.2.826.0.1.3680043.8.498.100046842248943976799...            0   \n",
       "1.2.826.0.1.3680043.8.498.100051586039120094256...            0   \n",
       "1.2.826.0.1.3680043.8.498.100093831080687954887...            0   \n",
       "1.2.826.0.1.3680043.8.498.100127900354105184004...            0   \n",
       "\n",
       "                                                    Other Posterior Circulation  \\\n",
       "SeriesInstanceUID                                                                 \n",
       "1.2.826.0.1.3680043.8.498.100040444280235051083...                            0   \n",
       "1.2.826.0.1.3680043.8.498.100046842248943976799...                            0   \n",
       "1.2.826.0.1.3680043.8.498.100051586039120094256...                            1   \n",
       "1.2.826.0.1.3680043.8.498.100093831080687954887...                            0   \n",
       "1.2.826.0.1.3680043.8.498.100127900354105184004...                            0   \n",
       "\n",
       "                                                    Aneurysm Present  \n",
       "SeriesInstanceUID                                                     \n",
       "1.2.826.0.1.3680043.8.498.100040444280235051083...                 0  \n",
       "1.2.826.0.1.3680043.8.498.100046842248943976799...                 0  \n",
       "1.2.826.0.1.3680043.8.498.100051586039120094256...                 1  \n",
       "1.2.826.0.1.3680043.8.498.100093831080687954887...                 0  \n",
       "1.2.826.0.1.3680043.8.498.100127900354105184004...                 0  "
      ]
     },
     "execution_count": 61,
     "metadata": {},
     "output_type": "execute_result"
    }
   ],
   "source": [
    "train = pd.read_csv(\"./data/train.csv\", index_col=\"SeriesInstanceUID\")\n",
    "train.head()"
   ]
  },
  {
   "cell_type": "code",
   "execution_count": 62,
   "id": "7931cb31",
   "metadata": {},
   "outputs": [
    {
     "name": "stdout",
     "output_type": "stream",
     "text": [
      "Number of samples:  4405\n"
     ]
    }
   ],
   "source": [
    "train.shape\n",
    "\n",
    "print(\"Number of samples: \", train.shape[0])"
   ]
  },
  {
   "cell_type": "markdown",
   "id": "7e5bcd78",
   "metadata": {},
   "source": [
    "## Positive vs. Negative Cases"
   ]
  },
  {
   "cell_type": "code",
   "execution_count": 63,
   "id": "0b144c6f",
   "metadata": {},
   "outputs": [
    {
     "name": "stdout",
     "output_type": "stream",
     "text": [
      "Aneurysm Present\n",
      "0    2512\n",
      "1    1893\n",
      "Name: count, dtype: int64\n"
     ]
    }
   ],
   "source": [
    "print(train[\"Aneurysm Present\"].value_counts())"
   ]
  },
  {
   "cell_type": "code",
   "execution_count": 64,
   "id": "efa3ab13",
   "metadata": {},
   "outputs": [
    {
     "data": {
      "image/png": "[encoded data removed]",
      "text/plain": [
       "<Figure size 1200x800 with 1 Axes>"
      ]
     },
     "metadata": {},
     "output_type": "display_data"
    }
   ],
   "source": [
    "import seaborn as sns\n",
    "import matplotlib.pyplot as plt\n",
    "\n",
    "# Create the bar plot\n",
    "plt.figure(figsize=(12, 8))\n",
    "sns.countplot(data=train, x=\"Aneurysm Present\")\n",
    "plt.title(\"Positive vs Negative Cases\")\n",
    "plt.show()"
   ]
  },
  {
   "cell_type": "markdown",
   "id": "8843a889",
   "metadata": {},
   "source": [
    "## Positives Per Each Location"
   ]
  },
  {
   "cell_type": "code",
   "execution_count": 65,
   "id": "f22968ad",
   "metadata": {},
   "outputs": [
    {
     "name": "stdout",
     "output_type": "stream",
     "text": [
      "2203\n",
      "There are 13 possible locations for aneurysms.\n",
      "There can be more than one aneurysm per sample.\n"
     ]
    },
    {
     "data": {
      "text/plain": [
       "Anterior Communicating Artery                 366\n",
       "Left Supraclinoid Internal Carotid Artery     340\n",
       "Right Middle Cerebral Artery                  299\n",
       "Right Supraclinoid Internal Carotid Artery    282\n",
       "Left Middle Cerebral Artery                   220\n",
       "Other Posterior Circulation                   115\n",
       "Basilar Tip                                   113\n",
       "Right Posterior Communicating Artery          101\n",
       "Right Infraclinoid Internal Carotid Artery     99\n",
       "Left Posterior Communicating Artery            87\n",
       "Left Infraclinoid Internal Carotid Artery      79\n",
       "Right Anterior Cerebral Artery                 56\n",
       "Left Anterior Cerebral Artery                  46\n",
       "dtype: int64"
      ]
     },
     "execution_count": 65,
     "metadata": {},
     "output_type": "execute_result"
    }
   ],
   "source": [
    "locations = train.columns[3:-1]\n",
    "location_counts = train[locations].sum().sort_values(ascending=False)\n",
    "\n",
    "print(location_counts.sum())\n",
    "\n",
    "print(\"There are 13 possible locations for aneurysms.\")\n",
    "print(\"There can be more than one aneurysm per sample.\")\n",
    "\n",
    "location_counts"
   ]
  },
  {
   "cell_type": "code",
   "execution_count": 66,
   "id": "9b15fe4e",
   "metadata": {},
   "outputs": [
    {
     "data": {
      "image/png": "[encoded data removed]",
      "text/plain": [
       "<Figure size 1200x800 with 1 Axes>"
      ]
     },
     "metadata": {},
     "output_type": "display_data"
    }
   ],
   "source": [
    "plt.figure(figsize=(12, 8))\n",
    "sns.barplot(x=location_counts.values, y=location_counts.index, orient='h')\n",
    "plt.title(\"Positive Cases by Location\")\n",
    "plt.xlabel(\"Positive Cases\")\n",
    "plt.ylabel(\"Location\")\n",
    "plt.tight_layout()\n",
    "plt.show()"
   ]
  },
  {
   "cell_type": "markdown",
   "id": "a557a576",
   "metadata": {},
   "source": [
    "## Train Localizers"
   ]
  },
  {
   "cell_type": "code",
   "execution_count": 67,
   "id": "0def54f7",
   "metadata": {},
   "outputs": [
    {
     "name": "stdout",
     "output_type": "stream",
     "text": [
      "(2286, 3)\n"
     ]
    },
    {
     "data": {
      "text/html": [
       "<div>\n",
       "<style scoped>\n",
       "    .dataframe tbody tr th:only-of-type {\n",
       "        vertical-align: middle;\n",
       "    }\n",
       "\n",
       "    .dataframe tbody tr th {\n",
       "        vertical-align: top;\n",
       "    }\n",
       "\n",
       "    .dataframe thead th {\n",
       "        text-align: right;\n",
       "    }\n",
       "</style>\n",
       "<table border=\"1\" class=\"dataframe\">\n",
       "  <thead>\n",
       "    <tr style=\"text-align: right;\">\n",
       "      <th></th>\n",
       "      <th>SOPInstanceUID</th>\n",
       "      <th>coordinates</th>\n",
       "      <th>location</th>\n",
       "    </tr>\n",
       "    <tr>\n",
       "      <th>SeriesInstanceUID</th>\n",
       "      <th></th>\n",
       "      <th></th>\n",
       "      <th></th>\n",
       "    </tr>\n",
       "  </thead>\n",
       "  <tbody>\n",
       "    <tr>\n",
       "      <th>1.2.826.0.1.3680043.8.498.10005158603912009425635473100344077317</th>\n",
       "      <td>1.2.826.0.1.3680043.8.498.10775329348174902199...</td>\n",
       "      <td>{'x': 258.3621186176837, 'y': 261.359900373599}</td>\n",
       "      <td>Other Posterior Circulation</td>\n",
       "    </tr>\n",
       "    <tr>\n",
       "      <th>1.2.826.0.1.3680043.8.498.10022796280698534221758473208024838831</th>\n",
       "      <td>1.2.826.0.1.3680043.8.498.53868409774237283281...</td>\n",
       "      <td>{'x': 194.87253141831238, 'y': 178.32675044883...</td>\n",
       "      <td>Right Middle Cerebral Artery</td>\n",
       "    </tr>\n",
       "    <tr>\n",
       "      <th>1.2.826.0.1.3680043.8.498.10023411164590664678534044036963716636</th>\n",
       "      <td>1.2.826.0.1.3680043.8.498.24186535344744886473...</td>\n",
       "      <td>{'x': 189.23979878597123, 'y': 209.19184886465...</td>\n",
       "      <td>Right Middle Cerebral Artery</td>\n",
       "    </tr>\n",
       "    <tr>\n",
       "      <th>1.2.826.0.1.3680043.8.498.10030095840917973694487307992374923817</th>\n",
       "      <td>1.2.826.0.1.3680043.8.498.75217084841854214544...</td>\n",
       "      <td>{'x': 208.2805049088359, 'y': 229.78962131837307}</td>\n",
       "      <td>Right Infraclinoid Internal Carotid Artery</td>\n",
       "    </tr>\n",
       "    <tr>\n",
       "      <th>1.2.826.0.1.3680043.8.498.10034081836061566510187499603024895557</th>\n",
       "      <td>1.2.826.0.1.3680043.8.498.71237104731452368587...</td>\n",
       "      <td>{'x': 249.86745590416498, 'y': 220.623044646393}</td>\n",
       "      <td>Anterior Communicating Artery</td>\n",
       "    </tr>\n",
       "  </tbody>\n",
       "</table>\n",
       "</div>"
      ],
      "text/plain": [
       "                                                                                       SOPInstanceUID  \\\n",
       "SeriesInstanceUID                                                                                       \n",
       "1.2.826.0.1.3680043.8.498.100051586039120094256...  1.2.826.0.1.3680043.8.498.10775329348174902199...   \n",
       "1.2.826.0.1.3680043.8.498.100227962806985342217...  1.2.826.0.1.3680043.8.498.53868409774237283281...   \n",
       "1.2.826.0.1.3680043.8.498.100234111645906646785...  1.2.826.0.1.3680043.8.498.24186535344744886473...   \n",
       "1.2.826.0.1.3680043.8.498.100300958409179736944...  1.2.826.0.1.3680043.8.498.75217084841854214544...   \n",
       "1.2.826.0.1.3680043.8.498.100340818360615665101...  1.2.826.0.1.3680043.8.498.71237104731452368587...   \n",
       "\n",
       "                                                                                          coordinates  \\\n",
       "SeriesInstanceUID                                                                                       \n",
       "1.2.826.0.1.3680043.8.498.100051586039120094256...    {'x': 258.3621186176837, 'y': 261.359900373599}   \n",
       "1.2.826.0.1.3680043.8.498.100227962806985342217...  {'x': 194.87253141831238, 'y': 178.32675044883...   \n",
       "1.2.826.0.1.3680043.8.498.100234111645906646785...  {'x': 189.23979878597123, 'y': 209.19184886465...   \n",
       "1.2.826.0.1.3680043.8.498.100300958409179736944...  {'x': 208.2805049088359, 'y': 229.78962131837307}   \n",
       "1.2.826.0.1.3680043.8.498.100340818360615665101...   {'x': 249.86745590416498, 'y': 220.623044646393}   \n",
       "\n",
       "                                                                                      location  \n",
       "SeriesInstanceUID                                                                               \n",
       "1.2.826.0.1.3680043.8.498.100051586039120094256...                 Other Posterior Circulation  \n",
       "1.2.826.0.1.3680043.8.498.100227962806985342217...                Right Middle Cerebral Artery  \n",
       "1.2.826.0.1.3680043.8.498.100234111645906646785...                Right Middle Cerebral Artery  \n",
       "1.2.826.0.1.3680043.8.498.100300958409179736944...  Right Infraclinoid Internal Carotid Artery  \n",
       "1.2.826.0.1.3680043.8.498.100340818360615665101...               Anterior Communicating Artery  "
      ]
     },
     "execution_count": 67,
     "metadata": {},
     "output_type": "execute_result"
    }
   ],
   "source": [
    "train_localizer = pd.read_csv(\"./data/train_localizers.csv\", index_col=\"SeriesInstanceUID\")\n",
    "print(train_localizer.shape)\n",
    "\n",
    "train_localizer.head()"
   ]
  },
  {
   "cell_type": "code",
   "execution_count": 30,
   "id": "39c18ea0",
   "metadata": {},
   "outputs": [
    {
     "name": "stdout",
     "output_type": "stream",
     "text": [
      "Localizers by location:\n",
      "location\n",
      "Anterior Communicating Artery                 375\n",
      "Left Supraclinoid Internal Carotid Artery     354\n",
      "Right Middle Cerebral Artery                  317\n",
      "Right Supraclinoid Internal Carotid Artery    293\n",
      "Left Middle Cerebral Artery                   226\n",
      "Other Posterior Circulation                   124\n",
      "Basilar Tip                                   113\n",
      "Right Infraclinoid Internal Carotid Artery    104\n",
      "Right Posterior Communicating Artery          101\n",
      "Left Posterior Communicating Artery            88\n",
      "Left Infraclinoid Internal Carotid Artery      83\n",
      "Right Anterior Cerebral Artery                 62\n",
      "Left Anterior Cerebral Artery                  46\n",
      "Name: count, dtype: int64\n",
      "Total: 2286\n",
      "\n",
      "Train.csv by location:\n",
      "Anterior Communicating Artery                 366\n",
      "Left Supraclinoid Internal Carotid Artery     340\n",
      "Right Middle Cerebral Artery                  299\n",
      "Right Supraclinoid Internal Carotid Artery    282\n",
      "Left Middle Cerebral Artery                   220\n",
      "Other Posterior Circulation                   115\n",
      "Basilar Tip                                   113\n",
      "Right Posterior Communicating Artery          101\n",
      "Right Infraclinoid Internal Carotid Artery     99\n",
      "Left Posterior Communicating Artery            87\n",
      "Left Infraclinoid Internal Carotid Artery      79\n",
      "Right Anterior Cerebral Artery                 56\n",
      "Left Anterior Cerebral Artery                  46\n",
      "dtype: int64\n",
      "Total: 2203\n"
     ]
    }
   ],
   "source": [
    "# Compare location value counts\n",
    "localizer_location_counts = train_localizer['location'].value_counts().sort_values(ascending=False)\n",
    "print(\"Localizers by location:\")\n",
    "print(localizer_location_counts)\n",
    "print(f\"Total: {localizer_location_counts.sum()}\")\n",
    "\n",
    "print(\"\\nTrain.csv by location:\")\n",
    "print(location_counts)\n",
    "print(f\"Total: {location_counts.sum()}\")"
   ]
  },
  {
   "cell_type": "markdown",
   "id": "107e2347",
   "metadata": {},
   "source": [
    "## Number of SeriesInstanceUIDs Have at Least One Localization Point"
   ]
  },
  {
   "cell_type": "code",
   "execution_count": 35,
   "id": "53a729bc",
   "metadata": {},
   "outputs": [
    {
     "name": "stdout",
     "output_type": "stream",
     "text": [
      "SeriesInstanceUIDs with at least one localization point: 1890\n"
     ]
    }
   ],
   "source": [
    "unique_series_with_localizations = train_localizer.index.nunique()\n",
    "print(f\"SeriesInstanceUIDs with at least one localization point: {unique_series_with_localizations}\")"
   ]
  }
 ],
 "metadata": {
  "kernelspec": {
   "display_name": "pytorch",
   "language": "python",
   "name": "python3"
  },
  "language_info": {
   "codemirror_mode": {
    "name": "ipython",
    "version": 3
   },
   "file_extension": ".py",
   "mimetype": "text/x-python",
   "name": "python",
   "nbconvert_exporter": "python",
   "pygments_lexer": "ipython3",
   "version": "3.9.18"
  }
 },
 "nbformat": 4,
 "nbformat_minor": 5
}
